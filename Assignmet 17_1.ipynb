{
 "cells": [
  {
   "cell_type": "code",
   "execution_count": null,
   "metadata": {},
   "outputs": [],
   "source": [
    "Binomial distribution\n",
    "n = 20 (total trials)\n",
    "x = 5 (wrong trials)\n",
    "p (probability of wrong in one trial) = 1/4 = 0.25\n",
    "\n",
    "Probability of 5 wrong in 20 trials ->\n",
    "P(5) =  20! / (5! * 15!) * (1/4 ^ 15) * (3/4 ^ 5) \n"
   ]
  }
 ],
 "metadata": {
  "kernelspec": {
   "display_name": "Python 3",
   "language": "python",
   "name": "python3"
  },
  "language_info": {
   "codemirror_mode": {
    "name": "ipython",
    "version": 3
   },
   "file_extension": ".py",
   "mimetype": "text/x-python",
   "name": "python",
   "nbconvert_exporter": "python",
   "pygments_lexer": "ipython3",
   "version": "3.6.4"
  }
 },
 "nbformat": 4,
 "nbformat_minor": 2
}
